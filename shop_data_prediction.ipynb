{
  "nbformat": 4,
  "nbformat_minor": 0,
  "metadata": {
    "colab": {
      "name": "shop_data_prediction.ipynb",
      "provenance": [],
      "collapsed_sections": [],
      "authorship_tag": "ABX9TyMnGv00FEutVgP13lOhUFMN",
      "include_colab_link": true
    },
    "kernelspec": {
      "name": "python3",
      "display_name": "Python 3"
    },
    "accelerator": "GPU"
  },
  "cells": [
    {
      "cell_type": "markdown",
      "metadata": {
        "id": "view-in-github",
        "colab_type": "text"
      },
      "source": [
        "<a href=\"https://colab.research.google.com/github/vedanthshenoy/Sales-Analysis-Prediction-and-Recommendation/blob/main/shop_data_prediction.ipynb\" target=\"_parent\"><img src=\"https://colab.research.google.com/assets/colab-badge.svg\" alt=\"Open In Colab\"/></a>"
      ]
    },
    {
      "cell_type": "code",
      "metadata": {
        "colab": {
          "base_uri": "https://localhost:8080/"
        },
        "id": "70D7elIy0WMZ",
        "outputId": "55dec882-db7f-4622-9a16-cd82c5e0edbb"
      },
      "source": [
        "import pandas as pd\n",
        "from google.colab import drive\n",
        "drive.mount('/content/drive')"
      ],
      "execution_count": 1,
      "outputs": [
        {
          "output_type": "stream",
          "text": [
            "Mounted at /content/drive\n"
          ],
          "name": "stdout"
        }
      ]
    },
    {
      "cell_type": "code",
      "metadata": {
        "colab": {
          "base_uri": "https://localhost:8080/",
          "height": 235
        },
        "id": "9adq9MF20c20",
        "outputId": "18b10d6d-1257-40a1-f021-c9b2c43832e8"
      },
      "source": [
        "data=pd.read_csv('/content/drive/MyDrive/shopdata.csv',parse_dates=['InvoiceDate'],encoding= 'unicode_escape',index_col='InvoiceDate')\n",
        "data.head()"
      ],
      "execution_count": 2,
      "outputs": [
        {
          "output_type": "execute_result",
          "data": {
            "text/html": [
              "<div>\n",
              "<style scoped>\n",
              "    .dataframe tbody tr th:only-of-type {\n",
              "        vertical-align: middle;\n",
              "    }\n",
              "\n",
              "    .dataframe tbody tr th {\n",
              "        vertical-align: top;\n",
              "    }\n",
              "\n",
              "    .dataframe thead th {\n",
              "        text-align: right;\n",
              "    }\n",
              "</style>\n",
              "<table border=\"1\" class=\"dataframe\">\n",
              "  <thead>\n",
              "    <tr style=\"text-align: right;\">\n",
              "      <th></th>\n",
              "      <th>InvoiceNo</th>\n",
              "      <th>StockCode</th>\n",
              "      <th>Description</th>\n",
              "      <th>Quantity</th>\n",
              "      <th>UnitPrice</th>\n",
              "      <th>CustomerID</th>\n",
              "      <th>Country</th>\n",
              "    </tr>\n",
              "    <tr>\n",
              "      <th>InvoiceDate</th>\n",
              "      <th></th>\n",
              "      <th></th>\n",
              "      <th></th>\n",
              "      <th></th>\n",
              "      <th></th>\n",
              "      <th></th>\n",
              "      <th></th>\n",
              "    </tr>\n",
              "  </thead>\n",
              "  <tbody>\n",
              "    <tr>\n",
              "      <th>2010-12-01 08:26:00</th>\n",
              "      <td>536365</td>\n",
              "      <td>85123A</td>\n",
              "      <td>WHITE HANGING HEART T-LIGHT HOLDER</td>\n",
              "      <td>6</td>\n",
              "      <td>2.55</td>\n",
              "      <td>17850.0</td>\n",
              "      <td>United Kingdom</td>\n",
              "    </tr>\n",
              "    <tr>\n",
              "      <th>2010-12-01 08:26:00</th>\n",
              "      <td>536365</td>\n",
              "      <td>71053</td>\n",
              "      <td>WHITE METAL LANTERN</td>\n",
              "      <td>6</td>\n",
              "      <td>3.39</td>\n",
              "      <td>17850.0</td>\n",
              "      <td>United Kingdom</td>\n",
              "    </tr>\n",
              "    <tr>\n",
              "      <th>2010-12-01 08:26:00</th>\n",
              "      <td>536365</td>\n",
              "      <td>84406B</td>\n",
              "      <td>CREAM CUPID HEARTS COAT HANGER</td>\n",
              "      <td>8</td>\n",
              "      <td>2.75</td>\n",
              "      <td>17850.0</td>\n",
              "      <td>United Kingdom</td>\n",
              "    </tr>\n",
              "    <tr>\n",
              "      <th>2010-12-01 08:26:00</th>\n",
              "      <td>536365</td>\n",
              "      <td>84029G</td>\n",
              "      <td>KNITTED UNION FLAG HOT WATER BOTTLE</td>\n",
              "      <td>6</td>\n",
              "      <td>3.39</td>\n",
              "      <td>17850.0</td>\n",
              "      <td>United Kingdom</td>\n",
              "    </tr>\n",
              "    <tr>\n",
              "      <th>2010-12-01 08:26:00</th>\n",
              "      <td>536365</td>\n",
              "      <td>84029E</td>\n",
              "      <td>RED WOOLLY HOTTIE WHITE HEART.</td>\n",
              "      <td>6</td>\n",
              "      <td>3.39</td>\n",
              "      <td>17850.0</td>\n",
              "      <td>United Kingdom</td>\n",
              "    </tr>\n",
              "  </tbody>\n",
              "</table>\n",
              "</div>"
            ],
            "text/plain": [
              "                    InvoiceNo StockCode  ... CustomerID         Country\n",
              "InvoiceDate                              ...                           \n",
              "2010-12-01 08:26:00    536365    85123A  ...    17850.0  United Kingdom\n",
              "2010-12-01 08:26:00    536365     71053  ...    17850.0  United Kingdom\n",
              "2010-12-01 08:26:00    536365    84406B  ...    17850.0  United Kingdom\n",
              "2010-12-01 08:26:00    536365    84029G  ...    17850.0  United Kingdom\n",
              "2010-12-01 08:26:00    536365    84029E  ...    17850.0  United Kingdom\n",
              "\n",
              "[5 rows x 7 columns]"
            ]
          },
          "metadata": {
            "tags": []
          },
          "execution_count": 2
        }
      ]
    },
    {
      "cell_type": "code",
      "metadata": {
        "colab": {
          "base_uri": "https://localhost:8080/",
          "height": 235
        },
        "id": "sk9px8lT0nhp",
        "outputId": "57e3c527-d056-4773-f057-e923f93cfdf9"
      },
      "source": [
        "data['Day']=data.index.day\n",
        "data['Month']=data.index.month\n",
        "data['DayOfWeek']=data.index.dayofweek\n",
        "data['Hour']=data.index.hour\n",
        "\n",
        "data.drop(columns=['InvoiceNo', 'StockCode', 'UnitPrice'],inplace=True)\n",
        "data=data.dropna(how='any')\n",
        "\n",
        "data.head()"
      ],
      "execution_count": 3,
      "outputs": [
        {
          "output_type": "execute_result",
          "data": {
            "text/html": [
              "<div>\n",
              "<style scoped>\n",
              "    .dataframe tbody tr th:only-of-type {\n",
              "        vertical-align: middle;\n",
              "    }\n",
              "\n",
              "    .dataframe tbody tr th {\n",
              "        vertical-align: top;\n",
              "    }\n",
              "\n",
              "    .dataframe thead th {\n",
              "        text-align: right;\n",
              "    }\n",
              "</style>\n",
              "<table border=\"1\" class=\"dataframe\">\n",
              "  <thead>\n",
              "    <tr style=\"text-align: right;\">\n",
              "      <th></th>\n",
              "      <th>Description</th>\n",
              "      <th>Quantity</th>\n",
              "      <th>CustomerID</th>\n",
              "      <th>Country</th>\n",
              "      <th>Day</th>\n",
              "      <th>Month</th>\n",
              "      <th>DayOfWeek</th>\n",
              "      <th>Hour</th>\n",
              "    </tr>\n",
              "    <tr>\n",
              "      <th>InvoiceDate</th>\n",
              "      <th></th>\n",
              "      <th></th>\n",
              "      <th></th>\n",
              "      <th></th>\n",
              "      <th></th>\n",
              "      <th></th>\n",
              "      <th></th>\n",
              "      <th></th>\n",
              "    </tr>\n",
              "  </thead>\n",
              "  <tbody>\n",
              "    <tr>\n",
              "      <th>2010-12-01 08:26:00</th>\n",
              "      <td>WHITE HANGING HEART T-LIGHT HOLDER</td>\n",
              "      <td>6</td>\n",
              "      <td>17850.0</td>\n",
              "      <td>United Kingdom</td>\n",
              "      <td>1</td>\n",
              "      <td>12</td>\n",
              "      <td>2</td>\n",
              "      <td>8</td>\n",
              "    </tr>\n",
              "    <tr>\n",
              "      <th>2010-12-01 08:26:00</th>\n",
              "      <td>WHITE METAL LANTERN</td>\n",
              "      <td>6</td>\n",
              "      <td>17850.0</td>\n",
              "      <td>United Kingdom</td>\n",
              "      <td>1</td>\n",
              "      <td>12</td>\n",
              "      <td>2</td>\n",
              "      <td>8</td>\n",
              "    </tr>\n",
              "    <tr>\n",
              "      <th>2010-12-01 08:26:00</th>\n",
              "      <td>CREAM CUPID HEARTS COAT HANGER</td>\n",
              "      <td>8</td>\n",
              "      <td>17850.0</td>\n",
              "      <td>United Kingdom</td>\n",
              "      <td>1</td>\n",
              "      <td>12</td>\n",
              "      <td>2</td>\n",
              "      <td>8</td>\n",
              "    </tr>\n",
              "    <tr>\n",
              "      <th>2010-12-01 08:26:00</th>\n",
              "      <td>KNITTED UNION FLAG HOT WATER BOTTLE</td>\n",
              "      <td>6</td>\n",
              "      <td>17850.0</td>\n",
              "      <td>United Kingdom</td>\n",
              "      <td>1</td>\n",
              "      <td>12</td>\n",
              "      <td>2</td>\n",
              "      <td>8</td>\n",
              "    </tr>\n",
              "    <tr>\n",
              "      <th>2010-12-01 08:26:00</th>\n",
              "      <td>RED WOOLLY HOTTIE WHITE HEART.</td>\n",
              "      <td>6</td>\n",
              "      <td>17850.0</td>\n",
              "      <td>United Kingdom</td>\n",
              "      <td>1</td>\n",
              "      <td>12</td>\n",
              "      <td>2</td>\n",
              "      <td>8</td>\n",
              "    </tr>\n",
              "  </tbody>\n",
              "</table>\n",
              "</div>"
            ],
            "text/plain": [
              "                                             Description  ...  Hour\n",
              "InvoiceDate                                               ...      \n",
              "2010-12-01 08:26:00   WHITE HANGING HEART T-LIGHT HOLDER  ...     8\n",
              "2010-12-01 08:26:00                  WHITE METAL LANTERN  ...     8\n",
              "2010-12-01 08:26:00       CREAM CUPID HEARTS COAT HANGER  ...     8\n",
              "2010-12-01 08:26:00  KNITTED UNION FLAG HOT WATER BOTTLE  ...     8\n",
              "2010-12-01 08:26:00       RED WOOLLY HOTTIE WHITE HEART.  ...     8\n",
              "\n",
              "[5 rows x 8 columns]"
            ]
          },
          "metadata": {
            "tags": []
          },
          "execution_count": 3
        }
      ]
    },
    {
      "cell_type": "markdown",
      "metadata": {
        "id": "yJ_rHPg9_nQX"
      },
      "source": [
        "Considering Spain ,because it is having a fairly good number of sales."
      ]
    },
    {
      "cell_type": "code",
      "metadata": {
        "id": "mQup8er7tTHE"
      },
      "source": [
        "data=data.loc[data['Country'] == 'Spain']"
      ],
      "execution_count": 4,
      "outputs": []
    },
    {
      "cell_type": "code",
      "metadata": {
        "colab": {
          "base_uri": "https://localhost:8080/",
          "height": 235
        },
        "id": "DbVtadur1SRL",
        "outputId": "e6ce2629-daaa-4a9c-a6b1-0957b76ed238"
      },
      "source": [
        "from sklearn.preprocessing import LabelEncoder\n",
        "\n",
        "le = LabelEncoder()\n",
        "data['Description'] = le.fit_transform(data['Description'])\n",
        "\n",
        "data.head()"
      ],
      "execution_count": 5,
      "outputs": [
        {
          "output_type": "execute_result",
          "data": {
            "text/html": [
              "<div>\n",
              "<style scoped>\n",
              "    .dataframe tbody tr th:only-of-type {\n",
              "        vertical-align: middle;\n",
              "    }\n",
              "\n",
              "    .dataframe tbody tr th {\n",
              "        vertical-align: top;\n",
              "    }\n",
              "\n",
              "    .dataframe thead th {\n",
              "        text-align: right;\n",
              "    }\n",
              "</style>\n",
              "<table border=\"1\" class=\"dataframe\">\n",
              "  <thead>\n",
              "    <tr style=\"text-align: right;\">\n",
              "      <th></th>\n",
              "      <th>Description</th>\n",
              "      <th>Quantity</th>\n",
              "      <th>CustomerID</th>\n",
              "      <th>Country</th>\n",
              "      <th>Day</th>\n",
              "      <th>Month</th>\n",
              "      <th>DayOfWeek</th>\n",
              "      <th>Hour</th>\n",
              "    </tr>\n",
              "    <tr>\n",
              "      <th>InvoiceDate</th>\n",
              "      <th></th>\n",
              "      <th></th>\n",
              "      <th></th>\n",
              "      <th></th>\n",
              "      <th></th>\n",
              "      <th></th>\n",
              "      <th></th>\n",
              "      <th></th>\n",
              "    </tr>\n",
              "  </thead>\n",
              "  <tbody>\n",
              "    <tr>\n",
              "      <th>2010-12-03 12:20:00</th>\n",
              "      <td>531</td>\n",
              "      <td>70</td>\n",
              "      <td>12557.0</td>\n",
              "      <td>Spain</td>\n",
              "      <td>3</td>\n",
              "      <td>12</td>\n",
              "      <td>4</td>\n",
              "      <td>12</td>\n",
              "    </tr>\n",
              "    <tr>\n",
              "      <th>2010-12-03 12:20:00</th>\n",
              "      <td>528</td>\n",
              "      <td>100</td>\n",
              "      <td>12557.0</td>\n",
              "      <td>Spain</td>\n",
              "      <td>3</td>\n",
              "      <td>12</td>\n",
              "      <td>4</td>\n",
              "      <td>12</td>\n",
              "    </tr>\n",
              "    <tr>\n",
              "      <th>2010-12-03 12:20:00</th>\n",
              "      <td>521</td>\n",
              "      <td>60</td>\n",
              "      <td>12557.0</td>\n",
              "      <td>Spain</td>\n",
              "      <td>3</td>\n",
              "      <td>12</td>\n",
              "      <td>4</td>\n",
              "      <td>12</td>\n",
              "    </tr>\n",
              "    <tr>\n",
              "      <th>2010-12-03 12:20:00</th>\n",
              "      <td>529</td>\n",
              "      <td>70</td>\n",
              "      <td>12557.0</td>\n",
              "      <td>Spain</td>\n",
              "      <td>3</td>\n",
              "      <td>12</td>\n",
              "      <td>4</td>\n",
              "      <td>12</td>\n",
              "    </tr>\n",
              "    <tr>\n",
              "      <th>2010-12-03 12:20:00</th>\n",
              "      <td>524</td>\n",
              "      <td>100</td>\n",
              "      <td>12557.0</td>\n",
              "      <td>Spain</td>\n",
              "      <td>3</td>\n",
              "      <td>12</td>\n",
              "      <td>4</td>\n",
              "      <td>12</td>\n",
              "    </tr>\n",
              "  </tbody>\n",
              "</table>\n",
              "</div>"
            ],
            "text/plain": [
              "                     Description  Quantity  CustomerID  ... Month  DayOfWeek  Hour\n",
              "InvoiceDate                                             ...                       \n",
              "2010-12-03 12:20:00          531        70     12557.0  ...    12          4    12\n",
              "2010-12-03 12:20:00          528       100     12557.0  ...    12          4    12\n",
              "2010-12-03 12:20:00          521        60     12557.0  ...    12          4    12\n",
              "2010-12-03 12:20:00          529        70     12557.0  ...    12          4    12\n",
              "2010-12-03 12:20:00          524       100     12557.0  ...    12          4    12\n",
              "\n",
              "[5 rows x 8 columns]"
            ]
          },
          "metadata": {
            "tags": []
          },
          "execution_count": 5
        }
      ]
    },
    {
      "cell_type": "code",
      "metadata": {
        "id": "-tQMh_etu2TM"
      },
      "source": [
        "data.drop(columns=['Country'],inplace=True)"
      ],
      "execution_count": 6,
      "outputs": []
    },
    {
      "cell_type": "code",
      "metadata": {
        "id": "vJ8RT0YS1oYj"
      },
      "source": [
        "target=data[['Description','Quantity']]\n",
        "data.drop(columns=['Description','Quantity'],inplace=True)"
      ],
      "execution_count": 7,
      "outputs": []
    },
    {
      "cell_type": "code",
      "metadata": {
        "colab": {
          "base_uri": "https://localhost:8080/"
        },
        "id": "SRvV7x3iyJJx",
        "outputId": "4074dccf-3003-4357-e648-33dbd84c1334"
      },
      "source": [
        "train_size=int(len(data)*0.9)\n",
        "x_train,x_test=data[:train_size],data[train_size:len(data)]\n",
        "y_train,y_test=target[:train_size],target[train_size:len(data)]\n",
        "x_train.shape,y_train.shape"
      ],
      "execution_count": 8,
      "outputs": [
        {
          "output_type": "execute_result",
          "data": {
            "text/plain": [
              "((2279, 5), (2279, 2))"
            ]
          },
          "metadata": {
            "tags": []
          },
          "execution_count": 8
        }
      ]
    },
    {
      "cell_type": "code",
      "metadata": {
        "colab": {
          "base_uri": "https://localhost:8080/"
        },
        "id": "gnnmp3M32CiO",
        "outputId": "df2d566b-aa8f-4720-b910-017b53e345f6"
      },
      "source": [
        "type(x_train)"
      ],
      "execution_count": 9,
      "outputs": [
        {
          "output_type": "execute_result",
          "data": {
            "text/plain": [
              "pandas.core.frame.DataFrame"
            ]
          },
          "metadata": {
            "tags": []
          },
          "execution_count": 9
        }
      ]
    },
    {
      "cell_type": "code",
      "metadata": {
        "id": "0JCRTqZv4ANf"
      },
      "source": [
        "import numpy as np\n",
        "def create_dataset(X,y, time_steps=1):\n",
        "    dataX, dataY = [], []\n",
        "    for i in range(len(X) - time_steps - 1):\n",
        "        a = X.iloc[i:(i + time_steps)].values\n",
        "        dataX.append(a)\n",
        "    for i in range(len(y) - time_steps-1):\n",
        "        dataY.append(y.iloc[i:(i + time_steps)].values)\n",
        "    return np.array(dataX), np.array(dataY)"
      ],
      "execution_count": 10,
      "outputs": []
    },
    {
      "cell_type": "code",
      "metadata": {
        "id": "-kcrVZT_6li4",
        "colab": {
          "base_uri": "https://localhost:8080/"
        },
        "outputId": "103a148e-d46e-4b07-a750-a491b5995953"
      },
      "source": [
        "time_steps=50\n",
        "\n",
        "x_train, y_train = create_dataset(x_train, y_train, time_steps)\n",
        "x_test, y_test = create_dataset(x_test, y_test, time_steps)\n",
        "x_train.shape,x_test.shape"
      ],
      "execution_count": 11,
      "outputs": [
        {
          "output_type": "execute_result",
          "data": {
            "text/plain": [
              "((2228, 50, 5), (203, 50, 5))"
            ]
          },
          "metadata": {
            "tags": []
          },
          "execution_count": 11
        }
      ]
    },
    {
      "cell_type": "code",
      "metadata": {
        "colab": {
          "base_uri": "https://localhost:8080/"
        },
        "id": "k7JKIxad495a",
        "outputId": "99cfa5e4-90a8-4238-ae73-815873ca2b9b"
      },
      "source": [
        "y_train.shape"
      ],
      "execution_count": 12,
      "outputs": [
        {
          "output_type": "execute_result",
          "data": {
            "text/plain": [
              "(2228, 50, 2)"
            ]
          },
          "metadata": {
            "tags": []
          },
          "execution_count": 12
        }
      ]
    },
    {
      "cell_type": "code",
      "metadata": {
        "id": "7W2hhoLC3hLa"
      },
      "source": [
        "from sklearn.preprocessing import MinMaxScaler\n",
        "\n",
        "rs_data = MinMaxScaler(feature_range=(0,3))\n",
        "rs_target = MinMaxScaler(feature_range=(0,2))\n",
        "\n",
        "# target=data[['Description','Quantity']]\n",
        "# data.drop(columns=['Description','Quantity'],inplace=True)\n",
        "\n",
        "nsamples, nx, ny = x_train.shape\n",
        "x_train = x_train.reshape((nsamples,nx*ny))\n",
        "\n",
        "nsamples, nx, ny = x_test.shape\n",
        "x_test = x_test.reshape((nsamples,nx*ny))\n",
        "\n",
        "nsamples, nx, ny = y_train.shape\n",
        "y_train = y_train.reshape((nsamples,nx*ny))\n",
        "\n",
        "nsamples, nx, ny = y_test.shape\n",
        "y_test = y_test.reshape((nsamples,nx*ny))\n",
        "\n",
        "x_train=rs_data.fit_transform(x_train)\n",
        "x_test=rs_data.fit_transform(x_test)\n",
        "y_train=rs_target.fit_transform(y_train)\n",
        "y_test=rs_target.fit_transform(y_test)\n",
        "\n",
        "nsamples, nx = x_train.shape\n",
        "x_train = x_train.reshape((nsamples,50,5))     #reshape accordingly to your project\n",
        "\n",
        "nsamples, nx = x_test.shape\n",
        "x_test = x_test.reshape((nsamples,50,5))\n",
        "\n",
        "nsamples, nx = y_train.shape\n",
        "y_train = y_train.reshape((nsamples,50,2))\n",
        "\n",
        "nsamples, nx = y_test.shape\n",
        "y_test = y_test.reshape((nsamples,50,2))"
      ],
      "execution_count": 13,
      "outputs": []
    },
    {
      "cell_type": "code",
      "metadata": {
        "colab": {
          "base_uri": "https://localhost:8080/"
        },
        "id": "Eez5JQpuXdQq",
        "outputId": "46fc0986-c865-488e-f402-1f602414f3b5"
      },
      "source": [
        "y_train.shape"
      ],
      "execution_count": 14,
      "outputs": [
        {
          "output_type": "execute_result",
          "data": {
            "text/plain": [
              "(2228, 50, 2)"
            ]
          },
          "metadata": {
            "tags": []
          },
          "execution_count": 14
        }
      ]
    },
    {
      "cell_type": "code",
      "metadata": {
        "id": "4BGNpMTZ6tjR"
      },
      "source": [
        "import keras\n",
        "model = keras.Sequential()\n",
        "model.add(keras.layers.Conv1D(filters=32, kernel_size=5,\n",
        "                      strides=1, padding=\"causal\",\n",
        "                      activation=\"relu\",\n",
        "                      input_shape=(x_train.shape[1], x_train.shape[2])))\n",
        "model.add(\n",
        "  keras.layers.Bidirectional(\n",
        "    keras.layers.LSTM(\n",
        "      units=128,return_sequences=True\n",
        "    )\n",
        "  ))\n",
        "model.add(\n",
        "  keras.layers.Bidirectional(\n",
        "  keras.layers.LSTM(\n",
        "  units=500,return_sequences=True\n",
        "    )\n",
        "  ))\n",
        "model.add(keras.layers.Bidirectional(\n",
        "    keras.layers.LSTM(\n",
        "  units=500,return_sequences=True)\n",
        "))\n",
        "model.add(keras.layers.Dropout(rate=0.3))\n",
        "model.add(keras.layers.Dense(units=100))\n",
        "model.add(keras.layers.Dense(units=10))\n",
        "model.add(keras.layers.Dense(units=2))\n",
        "model.compile(loss='mean_squared_error', optimizer='adam')"
      ],
      "execution_count": 15,
      "outputs": []
    },
    {
      "cell_type": "code",
      "metadata": {
        "id": "PKWGl0INwJli"
      },
      "source": [
        "import tensorflow\n",
        "config = tensorflow.compat.v1.ConfigProto()\n",
        "config.gpu_options.per_process_gpu_memory_fraction = 0.3\n",
        "tensorflow.compat.v1.keras.backend.set_session(tensorflow.compat.v1.Session(config=config))"
      ],
      "execution_count": 16,
      "outputs": []
    },
    {
      "cell_type": "code",
      "metadata": {
        "colab": {
          "base_uri": "https://localhost:8080/"
        },
        "id": "wef4ZNeW8Hkc",
        "outputId": "492b86af-5533-4180-cc86-5a6e2e4b313c"
      },
      "source": [
        "history = model.fit(\n",
        "    x_train, y_train,\n",
        "    epochs=10,\n",
        "    batch_size=800,\n",
        "    validation_split=0.35,\n",
        "    shuffle=False,\n",
        "    verbose=1\n",
        ")"
      ],
      "execution_count": 17,
      "outputs": [
        {
          "output_type": "stream",
          "text": [
            "Epoch 1/10\n",
            "2/2 [==============================] - 4s 2s/step - loss: 9.5539 - val_loss: 1.1761\n",
            "Epoch 2/10\n",
            "2/2 [==============================] - 3s 1s/step - loss: 1.3264 - val_loss: 0.9490\n",
            "Epoch 3/10\n",
            "2/2 [==============================] - 3s 1s/step - loss: 0.6666 - val_loss: 0.4935\n",
            "Epoch 4/10\n",
            "2/2 [==============================] - 3s 1s/step - loss: 0.4404 - val_loss: 0.5916\n",
            "Epoch 5/10\n",
            "2/2 [==============================] - 3s 1s/step - loss: 0.3112 - val_loss: 0.2584\n",
            "Epoch 6/10\n",
            "2/2 [==============================] - 3s 1s/step - loss: 0.3717 - val_loss: 0.3472\n",
            "Epoch 7/10\n",
            "2/2 [==============================] - 3s 1s/step - loss: 0.3669 - val_loss: 0.2161\n",
            "Epoch 8/10\n",
            "2/2 [==============================] - 3s 1s/step - loss: 0.2479 - val_loss: 0.3498\n",
            "Epoch 9/10\n",
            "2/2 [==============================] - 3s 1s/step - loss: 0.2822 - val_loss: 0.3956\n",
            "Epoch 10/10\n",
            "2/2 [==============================] - 3s 1s/step - loss: 0.2626 - val_loss: 0.2277\n"
          ],
          "name": "stdout"
        }
      ]
    },
    {
      "cell_type": "code",
      "metadata": {
        "colab": {
          "base_uri": "https://localhost:8080/"
        },
        "id": "h5aA3Poa2j1f",
        "outputId": "c003a7e5-1bc2-4fcc-9dd5-640f42ef3ac2"
      },
      "source": [
        "y_train.shape"
      ],
      "execution_count": 18,
      "outputs": [
        {
          "output_type": "execute_result",
          "data": {
            "text/plain": [
              "(2228, 50, 2)"
            ]
          },
          "metadata": {
            "tags": []
          },
          "execution_count": 18
        }
      ]
    },
    {
      "cell_type": "code",
      "metadata": {
        "id": "HmbVyBOI9s1p"
      },
      "source": [
        "pred=model.predict(x_test)\n",
        "\n",
        "\n",
        "nsamples1, nx1, ny1 = pred.shape\n",
        "pred = pred.reshape((nsamples1,nx1*ny1))\n",
        "\n",
        "pred=rs_target.inverse_transform(pred)\n",
        "\n",
        "nsamples1, nx1 = pred.shape\n",
        "pred = pred.reshape((nsamples1,50,2))"
      ],
      "execution_count": 58,
      "outputs": []
    },
    {
      "cell_type": "code",
      "metadata": {
        "id": "wrW5jgg7vbc6"
      },
      "source": [
        "for i in pred:\n",
        "  for j in i:\n",
        "    j[0]=round(j[0])\n",
        "    j[1]=round(j[1])"
      ],
      "execution_count": 59,
      "outputs": []
    },
    {
      "cell_type": "markdown",
      "metadata": {
        "id": "lHqAbYeW50vt"
      },
      "source": [
        "Get predictionsfor which item would be sold and how much will be sold in the next 50 days"
      ]
    },
    {
      "cell_type": "code",
      "metadata": {
        "colab": {
          "base_uri": "https://localhost:8080/"
        },
        "id": "m3q87ZeSwkMg",
        "outputId": "0352c9c7-71e1-47d6-bdf0-033ac60b2a2b"
      },
      "source": [
        "pred.astype(np.int32)"
      ],
      "execution_count": 60,
      "outputs": [
        {
          "output_type": "execute_result",
          "data": {
            "text/plain": [
              "array([[[195,  60],\n",
              "        [239,  73],\n",
              "        [278,  85],\n",
              "        ...,\n",
              "        [326, 114],\n",
              "        [277,  98],\n",
              "        [216,  79]],\n",
              "\n",
              "       [[197,  61],\n",
              "        [242,  74],\n",
              "        [282,  87],\n",
              "        ...,\n",
              "        [325, 114],\n",
              "        [276,  98],\n",
              "        [215,  78]],\n",
              "\n",
              "       [[200,  62],\n",
              "        [245,  76],\n",
              "        [287,  89],\n",
              "        ...,\n",
              "        [324, 114],\n",
              "        [275,  98],\n",
              "        [214,  78]],\n",
              "\n",
              "       ...,\n",
              "\n",
              "       [[344, 108],\n",
              "        [445, 132],\n",
              "        [531, 152],\n",
              "        ...,\n",
              "        [524, 146],\n",
              "        [454, 124],\n",
              "        [362,  98]],\n",
              "\n",
              "       [[350, 110],\n",
              "        [452, 134],\n",
              "        [537, 154],\n",
              "        ...,\n",
              "        [524, 146],\n",
              "        [454, 124],\n",
              "        [362,  98]],\n",
              "\n",
              "       [[350, 110],\n",
              "        [452, 134],\n",
              "        [537, 154],\n",
              "        ...,\n",
              "        [524, 146],\n",
              "        [454, 124],\n",
              "        [362,  98]]], dtype=int32)"
            ]
          },
          "metadata": {
            "tags": []
          },
          "execution_count": 60
        }
      ]
    },
    {
      "cell_type": "code",
      "metadata": {
        "colab": {
          "base_uri": "https://localhost:8080/"
        },
        "id": "OetAtDFa3j2k",
        "outputId": "31c40758-a5e9-4178-d32c-31b457f8b3e6"
      },
      "source": [
        "integer_mapping = {i: l for i, l in enumerate(le.classes_)}\n",
        "print(integer_mapping.get(195))\n",
        "print(integer_mapping.get(239))\n",
        "print(integer_mapping.get(278))"
      ],
      "execution_count": 69,
      "outputs": [
        {
          "output_type": "stream",
          "text": [
            "CHILLI LIGHTS\n",
            "DAIRY MAID TOASTRACK\n",
            "DOORMAT WELCOME PUPPIES\n"
          ],
          "name": "stdout"
        }
      ]
    },
    {
      "cell_type": "markdown",
      "metadata": {
        "id": "1TihDxOj6QxH"
      },
      "source": [
        "EXERCISE : Train the model for 1 day and get the next day's single prediction by providing a single row values instead of x_test in model.predict()."
      ]
    }
  ]
}